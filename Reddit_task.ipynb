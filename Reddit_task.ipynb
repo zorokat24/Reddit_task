{
 "cells": [
  {
   "cell_type": "code",
   "execution_count": 1,
   "metadata": {},
   "outputs": [
    {
     "data": {
      "text/html": [
       "<div>\n",
       "<style scoped>\n",
       "    .dataframe tbody tr th:only-of-type {\n",
       "        vertical-align: middle;\n",
       "    }\n",
       "\n",
       "    .dataframe tbody tr th {\n",
       "        vertical-align: top;\n",
       "    }\n",
       "\n",
       "    .dataframe thead th {\n",
       "        text-align: right;\n",
       "    }\n",
       "</style>\n",
       "<table border=\"1\" class=\"dataframe\">\n",
       "  <thead>\n",
       "    <tr style=\"text-align: right;\">\n",
       "      <th></th>\n",
       "      <th>kind</th>\n",
       "      <th>data</th>\n",
       "    </tr>\n",
       "  </thead>\n",
       "  <tbody>\n",
       "    <tr>\n",
       "      <th>after</th>\n",
       "      <td>Listing</td>\n",
       "      <td>t3_iyj1jy</td>\n",
       "    </tr>\n",
       "    <tr>\n",
       "      <th>before</th>\n",
       "      <td>Listing</td>\n",
       "      <td>None</td>\n",
       "    </tr>\n",
       "    <tr>\n",
       "      <th>children</th>\n",
       "      <td>Listing</td>\n",
       "      <td>[{'kind': 't3', 'data': {'approved_at_utc': No...</td>\n",
       "    </tr>\n",
       "    <tr>\n",
       "      <th>dist</th>\n",
       "      <td>Listing</td>\n",
       "      <td>100</td>\n",
       "    </tr>\n",
       "    <tr>\n",
       "      <th>modhash</th>\n",
       "      <td>Listing</td>\n",
       "      <td></td>\n",
       "    </tr>\n",
       "  </tbody>\n",
       "</table>\n",
       "</div>"
      ],
      "text/plain": [
       "             kind                                               data\n",
       "after     Listing                                          t3_iyj1jy\n",
       "before    Listing                                               None\n",
       "children  Listing  [{'kind': 't3', 'data': {'approved_at_utc': No...\n",
       "dist      Listing                                                100\n",
       "modhash   Listing                                                   "
      ]
     },
     "execution_count": 1,
     "metadata": {},
     "output_type": "execute_result"
    }
   ],
   "source": [
    "import pandas as pd\n",
    "import numpy as np\n",
    "import json\n",
    "with open('reddit.json') as f:\n",
    "   data = json.load(f)\n",
    "\n",
    "reddit=pd.DataFrame(data)\n",
    "reddit.head()"
   ]
  },
  {
   "cell_type": "code",
   "execution_count": 2,
   "metadata": {},
   "outputs": [
    {
     "name": "stdout",
     "output_type": "stream",
     "text": [
      "             kind                                               data\n",
      "after     Listing                                          t3_iyj1jy\n",
      "before    Listing                                               None\n",
      "children  Listing  [{'kind': 't3', 'data': {'approved_at_utc': No...\n",
      "dist      Listing                                                100\n",
      "modhash   Listing                                                   \n"
     ]
    }
   ],
   "source": [
    "with pd.option_context('display.max_rows', None, 'display.max_columns', None):  # more options can be specified also\n",
    "    print(reddit)"
   ]
  },
  {
   "cell_type": "markdown",
   "metadata": {},
   "source": [
    "# 1) The subreddits of all links"
   ]
  },
  {
   "cell_type": "code",
   "execution_count": 3,
   "metadata": {},
   "outputs": [
    {
     "name": "stdout",
     "output_type": "stream",
     "text": [
      "['MurderedByWords', 'science', 'pics', 'funny', 'WhitePeopleTwitter', 'nba', 'nextfuckinglevel', 'Unexpected', 'wholesomememes', 'aww', 'interestingasfuck', 'memes', 'politics', 'MadeMeSmile', 'dankmemes', 'LifeProTips', 'news', 'TheLastAirbender', 'trippinthroughtime', 'gaming', 'oddlysatisfying', 'todayilearned', 'BikiniBottomTwitter', 'confusing_perspective', 'AbruptChaos', 'PrequelMemes', 'PoliticalHumor', 'youseeingthisshit', 'Whatcouldgowrong', 'PublicFreakout', 'mildlyinteresting', 'insanepeoplefacebook', 'worldnews', 'iamverysmart', 'GetMotivated', 'me_irl', 'AmongUs', 'IdiotsInCars', 'holdmyredbull', 'blursedimages', 'CrappyDesign', 'pcmasterrace', 'ShittyLifeProTips', 'rarepuppers', 'suspiciouslyspecific', 'PoliticalCompassMemes', 'teenagers', 'Wellthatsucks', 'LateStageCapitalism', 'madlads', 'comedyheaven', 'FUCKYOUINPARTICULAR', 'StardewValley', 'iamatotalpieceofshit', 'Rainbow6', 'PornhubComments', 'funny', 'politics', 'technicallythetruth', 'hmmm', 'tf2', 'nevertellmetheodds', 'dogelore', 'nba', 'hockey', 'interestingasfuck', 'BeAmazed', 'xboxone', 'TheBoys', 'WitchesVsPatriarchy', 'thatHappened', 'Minecraft', 'apexlegends', 'ProgrammerHumor', 'rickandmorty', 'confidentlyincorrect', 'HumansBeingBros', 'Art', 'wholesomejojo', 'pcgaming', 'NatureIsFuckingLit', 'MovieDetails', 'atheism', 'tumblr', 'mildlyinfuriating', 'food', 'ShitPostCrusaders', 'news', 'comics', 'nottheonion', 'leagueoflegends', 'pics', 'facepalm', 'AnimalsBeingJerks', 'TikTokCringe', 'NintendoSwitch', 'Futurology', 'therewasanattempt', 'todayilearned', 'CozyPlaces']\n"
     ]
    }
   ],
   "source": [
    "num=reddit['data']['children']\n",
    "subreddits=[]\n",
    "for i in num:\n",
    "    subreddits.append(i['data']['subreddit'])\n",
    "print(subreddits)"
   ]
  },
  {
   "cell_type": "markdown",
   "metadata": {},
   "source": [
    "# 4) The total number of 'subreddit_subscribers'"
   ]
  },
  {
   "cell_type": "code",
   "execution_count": 4,
   "metadata": {},
   "outputs": [
    {
     "name": "stdout",
     "output_type": "stream",
     "text": [
      "The total number of subscribers for MurderedByWords are 2013782\n",
      "The total number of subscribers for science are 25157417\n",
      "The total number of subscribers for pics are 25893641\n",
      "The total number of subscribers for funny are 33258708\n",
      "The total number of subscribers for WhitePeopleTwitter are 1825828\n",
      "The total number of subscribers for nba are 3569741\n",
      "The total number of subscribers for nextfuckinglevel are 3015669\n",
      "The total number of subscribers for Unexpected are 3211742\n",
      "The total number of subscribers for wholesomememes are 8013599\n",
      "The total number of subscribers for aww are 26684644\n",
      "The total number of subscribers for interestingasfuck are 6639055\n",
      "The total number of subscribers for memes are 12688396\n",
      "The total number of subscribers for politics are 6606073\n",
      "The total number of subscribers for MadeMeSmile are 2414294\n",
      "The total number of subscribers for dankmemes are 4046656\n",
      "The total number of subscribers for LifeProTips are 18479993\n",
      "The total number of subscribers for news are 21848562\n",
      "The total number of subscribers for TheLastAirbender are 843287\n",
      "The total number of subscribers for trippinthroughtime are 3664269\n",
      "The total number of subscribers for gaming are 28013285\n",
      "The total number of subscribers for oddlysatisfying are 4985184\n",
      "The total number of subscribers for todayilearned are 23859846\n",
      "The total number of subscribers for BikiniBottomTwitter are 3670394\n",
      "The total number of subscribers for confusing_perspective are 1192373\n",
      "The total number of subscribers for AbruptChaos are 882104\n",
      "The total number of subscribers for PrequelMemes are 1564947\n",
      "The total number of subscribers for PoliticalHumor are 1097639\n",
      "The total number of subscribers for youseeingthisshit are 1784963\n",
      "The total number of subscribers for Whatcouldgowrong are 4058135\n",
      "The total number of subscribers for PublicFreakout are 2810775\n",
      "The total number of subscribers for mildlyinteresting are 18088305\n",
      "The total number of subscribers for insanepeoplefacebook are 1958072\n",
      "The total number of subscribers for worldnews are 25058571\n",
      "The total number of subscribers for iamverysmart are 1424190\n",
      "The total number of subscribers for GetMotivated are 16594536\n",
      "The total number of subscribers for me_irl are 4461810\n",
      "The total number of subscribers for AmongUs are 354838\n",
      "The total number of subscribers for IdiotsInCars are 2122846\n",
      "The total number of subscribers for holdmyredbull are 826373\n",
      "The total number of subscribers for blursedimages are 1717820\n",
      "The total number of subscribers for CrappyDesign are 2295691\n",
      "The total number of subscribers for pcmasterrace are 4272771\n",
      "The total number of subscribers for ShittyLifeProTips are 1227317\n",
      "The total number of subscribers for rarepuppers are 2542949\n",
      "The total number of subscribers for suspiciouslyspecific are 793684\n",
      "The total number of subscribers for PoliticalCompassMemes are 357765\n",
      "The total number of subscribers for teenagers are 2168207\n",
      "The total number of subscribers for Wellthatsucks are 2268815\n",
      "The total number of subscribers for LateStageCapitalism are 567776\n",
      "The total number of subscribers for madlads are 1607817\n",
      "The total number of subscribers for comedyheaven are 1332665\n",
      "The total number of subscribers for FUCKYOUINPARTICULAR are 400457\n",
      "The total number of subscribers for StardewValley are 656360\n",
      "The total number of subscribers for iamatotalpieceofshit are 1119335\n",
      "The total number of subscribers for Rainbow6 are 1222931\n",
      "The total number of subscribers for PornhubComments are 930409\n",
      "The total number of subscribers for technicallythetruth are 1209241\n",
      "The total number of subscribers for hmmm are 1579879\n",
      "The total number of subscribers for tf2 are 458815\n",
      "The total number of subscribers for nevertellmetheodds are 1679010\n",
      "The total number of subscribers for dogelore are 239191\n",
      "The total number of subscribers for hockey are 1131639\n",
      "The total number of subscribers for BeAmazed are 1992641\n",
      "The total number of subscribers for xboxone are 2365206\n",
      "The total number of subscribers for TheBoys are 154497\n",
      "The total number of subscribers for WitchesVsPatriarchy are 226775\n",
      "The total number of subscribers for thatHappened are 1261244\n",
      "The total number of subscribers for Minecraft are 4011524\n",
      "The total number of subscribers for apexlegends are 1093738\n",
      "The total number of subscribers for ProgrammerHumor are 1317240\n",
      "The total number of subscribers for rickandmorty are 2009040\n",
      "The total number of subscribers for confidentlyincorrect are 282697\n",
      "The total number of subscribers for HumansBeingBros are 2077146\n",
      "The total number of subscribers for Art are 18462077\n",
      "The total number of subscribers for wholesomejojo are 183710\n",
      "The total number of subscribers for pcgaming are 2235540\n",
      "The total number of subscribers for NatureIsFuckingLit are 4192837\n",
      "The total number of subscribers for MovieDetails are 1908867\n",
      "The total number of subscribers for atheism are 2615136\n",
      "The total number of subscribers for tumblr are 896919\n",
      "The total number of subscribers for mildlyinfuriating are 2888323\n",
      "The total number of subscribers for food are 19876040\n",
      "The total number of subscribers for ShitPostCrusaders are 729056\n",
      "The total number of subscribers for comics are 1462962\n",
      "The total number of subscribers for nottheonion are 17818652\n",
      "The total number of subscribers for leagueoflegends are 4613368\n",
      "The total number of subscribers for facepalm are 4556889\n",
      "The total number of subscribers for AnimalsBeingJerks are 3439978\n",
      "The total number of subscribers for TikTokCringe are 592246\n",
      "The total number of subscribers for NintendoSwitch are 2410017\n",
      "The total number of subscribers for Futurology are 14865801\n",
      "The total number of subscribers for therewasanattempt are 1821671\n",
      "The total number of subscribers for CozyPlaces are 1503993\n"
     ]
    }
   ],
   "source": [
    "num=reddit['data']['children']\n",
    "subscribers={}\n",
    "for i in num:\n",
    "    key= i['data']['subreddit']\n",
    "    subscribers[key]= i['data']['subreddit_subscribers']\n",
    "for subreddit,number in subscribers.items():\n",
    "    print(\"The total number of subscribers for \" +subreddit +\" are \"+str(number))\n"
   ]
  },
  {
   "cell_type": "markdown",
   "metadata": {},
   "source": [
    "# 5) The average score for links with less than 5 cross-posts"
   ]
  },
  {
   "cell_type": "code",
   "execution_count": 5,
   "metadata": {},
   "outputs": [
    {
     "name": "stdout",
     "output_type": "stream",
     "text": [
      "The average score for links with less than 5 cross-posts is 12976.767123287671\n"
     ]
    }
   ],
   "source": [
    "num=reddit['data']['children']\n",
    "average_score={}\n",
    "links_less_than_5_crossposts={}\n",
    "sum_score=0\n",
    "count=0\n",
    "for i in reddit['data']['children']:\n",
    "    key= i['data']['subreddit']\n",
    "    links_less_than_5_crossposts[key]= i['data']['num_crossposts']<5\n",
    "    if(links_less_than_5_crossposts[key]==True):\n",
    "        sum_score+=i['data']['score']\n",
    "        count+=1\n",
    "avg_score=sum_score/count\n",
    "print(\"The average score for links with less than 5 cross-posts is \" +str(avg_score))\n"
   ]
  },
  {
   "cell_type": "code",
   "execution_count": null,
   "metadata": {},
   "outputs": [],
   "source": []
  }
 ],
 "metadata": {
  "kernelspec": {
   "display_name": "Python 3",
   "language": "python",
   "name": "python3"
  },
  "language_info": {
   "codemirror_mode": {
    "name": "ipython",
    "version": 3
   },
   "file_extension": ".py",
   "mimetype": "text/x-python",
   "name": "python",
   "nbconvert_exporter": "python",
   "pygments_lexer": "ipython3",
   "version": "3.7.6"
  }
 },
 "nbformat": 4,
 "nbformat_minor": 4
}
